{
 "cells": [
  {
   "cell_type": "code",
   "execution_count": 7,
   "metadata": {},
   "outputs": [],
   "source": [
    "#coding:utf-8\n",
    "import numpy as np\n",
    "import matplotlib.pylab as plt"
   ]
  },
  {
   "cell_type": "markdown",
   "metadata": {},
   "source": [
    "## 激活函数"
   ]
  },
  {
   "cell_type": "markdown",
   "metadata": {},
   "source": [
    "### 阶跃函数"
   ]
  },
  {
   "cell_type": "code",
   "execution_count": 6,
   "metadata": {},
   "outputs": [],
   "source": [
    "def step_function(x):\n",
    "    return np.array(x > 0, dtype=np.int)"
   ]
  },
  {
   "cell_type": "markdown",
   "metadata": {},
   "source": [
    "如下，阶跃函数的值从0到1呈阶梯状增长，所以叫做阶跃函数"
   ]
  },
  {
   "cell_type": "code",
   "execution_count": 11,
   "metadata": {},
   "outputs": [
    {
     "data": {
      "image/png": "[encoded data removed]",
      "text/plain": [
       "<matplotlib.figure.Figure at 0x1148a4668>"
      ]
     },
     "metadata": {},
     "output_type": "display_data"
    }
   ],
   "source": [
    "X = np.arange(-5.0, 5.0, 0.1)\n",
    "Y = step_function(X)\n",
    "plt.plot(X, Y)\n",
    "plt.ylim(-0.1, 1.1)  # 指定图中绘制的y轴的范围\n",
    "plt.show()"
   ]
  },
  {
   "cell_type": "markdown",
   "metadata": {},
   "source": [
    "### sigmoid函数"
   ]
  },
  {
   "cell_type": "code",
   "execution_count": 15,
   "metadata": {},
   "outputs": [],
   "source": [
    "def sigmoid_function(x):\n",
    "    return 1/(1+np.exp(-x))"
   ]
  },
  {
   "cell_type": "markdown",
   "metadata": {},
   "source": [
    "如下，是sigmoid函数。sigmoid函数相比于阶跃函数，具有平滑性，神经网络中流动的是连续的实数值信号。<br/>\n",
    "**相同点**：\n",
    "1. 取值范围都是0到1，输入信号为重要信息，阶跃函数和sigmoid函数都会输出较大的值；相反同样。\n",
    "2. 均为非线性函数。"
   ]
  },
  {
   "cell_type": "code",
   "execution_count": 17,
   "metadata": {},
   "outputs": [
    {
     "data": {
      "image/png": "[encoded data removed]",
      "text/plain": [
       "<matplotlib.figure.Figure at 0x1147d19b0>"
      ]
     },
     "metadata": {},
     "output_type": "display_data"
    }
   ],
   "source": [
    "X = np.arange(-5.0, 5.0, 0.1)\n",
    "Y = sigmoid_function(X)\n",
    "plt.ylim(-0.1, 1.1)  # 指定图中绘制的y轴的范围\n",
    "plt.plot(X, Y)\n",
    "plt.show()"
   ]
  },
  {
   "cell_type": "markdown",
   "metadata": {},
   "source": [
    "**Tips**：为了发挥叠加层所带来的优势，激活函数必须使用非线性函数。"
   ]
  },
  {
   "cell_type": "markdown",
   "metadata": {},
   "source": [
    "### relu函数"
   ]
  },
  {
   "cell_type": "code",
   "execution_count": 20,
   "metadata": {},
   "outputs": [],
   "source": [
    "def relu_function(x):\n",
    "    return np.maximum(0,x)"
   ]
  },
  {
   "cell_type": "code",
   "execution_count": 23,
   "metadata": {},
   "outputs": [
    {
     "data": {
      "image/png": "[encoded data removed]",
      "text/plain": [
       "<matplotlib.figure.Figure at 0x1146be208>"
      ]
     },
     "metadata": {},
     "output_type": "display_data"
    }
   ],
   "source": [
    "X = np.arange(-5.0, 5.0, 0.1)\n",
    "Y = relu_function(X)\n",
    "plt.ylim(-1, 5.1)  # 指定图中绘制的y轴的范围\n",
    "plt.plot(X, Y)\n",
    "plt.show()"
   ]
  },
  {
   "cell_type": "markdown",
   "metadata": {},
   "source": [
    "## loss function"
   ]
  },
  {
   "cell_type": "markdown",
   "metadata": {},
   "source": [
    "### 均方误差"
   ]
  },
  {
   "cell_type": "code",
   "execution_count": 4,
   "metadata": {},
   "outputs": [],
   "source": [
    "def mean_squared_error(y, t):\n",
    "    return 0.5 * sum((y - t) ** 2)"
   ]
  },
  {
   "cell_type": "code",
   "execution_count": 8,
   "metadata": {},
   "outputs": [
    {
     "data": {
      "text/plain": [
       "0.09750000000000003"
      ]
     },
     "execution_count": 8,
     "metadata": {},
     "output_type": "execute_result"
    }
   ],
   "source": [
    "# demo\n",
    "y = [0.1, 0.05, 0.6, 0.0, 0.05, 0.1, 0.0, 0.1, 0.0, 0.0]\n",
    "t = [0, 0, 1, 0, 0, 0, 0, 0, 0, 0]\n",
    "mean_squared_error(np.array(y), np.array(t))"
   ]
  },
  {
   "cell_type": "markdown",
   "metadata": {},
   "source": [
    "### 交叉熵"
   ]
  },
  {
   "cell_type": "code",
   "execution_count": 9,
   "metadata": {},
   "outputs": [],
   "source": [
    "def cross_entropy_error(y, t):\n",
    "    delta = 1e-7\n",
    "    return -np.sum(t * np.log(y + delta))"
   ]
  },
  {
   "cell_type": "code",
   "execution_count": 10,
   "metadata": {},
   "outputs": [
    {
     "data": {
      "text/plain": [
       "0.510825457099338"
      ]
     },
     "execution_count": 10,
     "metadata": {},
     "output_type": "execute_result"
    }
   ],
   "source": [
    "# demo\n",
    "cross_entropy_error(np.array(y), np.array(t))"
   ]
  },
  {
   "cell_type": "code",
   "execution_count": 15,
   "metadata": {},
   "outputs": [],
   "source": [
    "a = np.array([['aa','bb','cc'],['aa','bb','cc']])"
   ]
  },
  {
   "cell_type": "code",
   "execution_count": 16,
   "metadata": {},
   "outputs": [
    {
     "data": {
      "text/plain": [
       "array([['aa', 'bb', 'cc'],\n",
       "       ['aa', 'bb', 'cc']], dtype='<U2')"
      ]
     },
     "execution_count": 16,
     "metadata": {},
     "output_type": "execute_result"
    }
   ],
   "source": [
    "a"
   ]
  },
  {
   "cell_type": "code",
   "execution_count": 17,
   "metadata": {},
   "outputs": [
    {
     "data": {
      "text/plain": [
       "2"
      ]
     },
     "execution_count": 17,
     "metadata": {},
     "output_type": "execute_result"
    }
   ],
   "source": [
    "a.ndim"
   ]
  },
  {
   "cell_type": "code",
   "execution_count": 18,
   "metadata": {},
   "outputs": [
    {
     "data": {
      "text/plain": [
       "6"
      ]
     },
     "execution_count": 18,
     "metadata": {},
     "output_type": "execute_result"
    }
   ],
   "source": [
    "a.size"
   ]
  },
  {
   "cell_type": "code",
   "execution_count": 19,
   "metadata": {},
   "outputs": [
    {
     "data": {
      "text/plain": [
       "array([['aa', 'bb', 'cc', 'aa', 'bb', 'cc']], dtype='<U2')"
      ]
     },
     "execution_count": 19,
     "metadata": {},
     "output_type": "execute_result"
    }
   ],
   "source": [
    "a.reshape(1, a.size)"
   ]
  },
  {
   "cell_type": "code",
   "execution_count": 20,
   "metadata": {},
   "outputs": [],
   "source": [
    "x = np.array([1,2,3])\n",
    "y = np.array([4,5,6])\n",
    "z = np.array([[11,12,13,14,15,16,17],[21,22,23,24,25,26,27],[31,32,33,34,35,36,37],[41,42,43,44,45,46,47]])"
   ]
  },
  {
   "cell_type": "code",
   "execution_count": 21,
   "metadata": {},
   "outputs": [
    {
     "data": {
      "text/plain": [
       "array([[11, 12, 13, 14, 15, 16, 17],\n",
       "       [21, 22, 23, 24, 25, 26, 27],\n",
       "       [31, 32, 33, 34, 35, 36, 37],\n",
       "       [41, 42, 43, 44, 45, 46, 47]])"
      ]
     },
     "execution_count": 21,
     "metadata": {},
     "output_type": "execute_result"
    }
   ],
   "source": [
    "z"
   ]
  },
  {
   "cell_type": "code",
   "execution_count": 22,
   "metadata": {},
   "outputs": [
    {
     "data": {
      "text/plain": [
       "array([25, 36, 47])"
      ]
     },
     "execution_count": 22,
     "metadata": {},
     "output_type": "execute_result"
    }
   ],
   "source": [
    "z[x,y]"
   ]
  },
  {
   "cell_type": "markdown",
   "metadata": {},
   "source": [
    "## 绘制三维图像"
   ]
  },
  {
   "cell_type": "code",
   "execution_count": 23,
   "metadata": {},
   "outputs": [],
   "source": [
    "import numpy as np\n",
    "import matplotlib.pyplot as plt \n",
    "import mpl_toolkits.mplot3d\n",
    "\n"
   ]
  },
  {
   "cell_type": "code",
   "execution_count": 24,
   "metadata": {},
   "outputs": [
    {
     "data": {
      "image/png": "[encoded data removed]",
      "text/plain": [
       "<matplotlib.figure.Figure at 0x10aa901d0>"
      ]
     },
     "metadata": {},
     "output_type": "display_data"
    }
   ],
   "source": [
    "x, y = np.mgrid[-2 : 2 : 20j, -2 : 2 : 20j]\n",
    "z = 50 * np.sin(x + y)                     # 测试数据\n",
    "ax = plt.subplot(111, projection = '3d')   # 三维图形\n",
    "ax.plot_surface(x, y, z, rstride = 2, cstride = 1, cmap = plt.cm.Blues_r)\n",
    "ax.set_xlabel('x')                         # 设置坐标轴标签\n",
    "ax.set_xlabel('y')\n",
    "ax.set_xlabel('z')\n",
    "plt.show()"
   ]
  },
  {
   "cell_type": "code",
   "execution_count": 32,
   "metadata": {},
   "outputs": [
    {
     "ename": "TypeError",
     "evalue": "unsupported operand type(s) for ** or pow(): 'list' and 'int'",
     "output_type": "error",
     "traceback": [
      "\u001b[0;31m---------------------------------------------------------------------------\u001b[0m",
      "\u001b[0;31mTypeError\u001b[0m                                 Traceback (most recent call last)",
      "\u001b[0;32m<ipython-input-32-e4a049dac410>\u001b[0m in \u001b[0;36m<module>\u001b[0;34m()\u001b[0m\n\u001b[1;32m      3\u001b[0m \u001b[0;34m\u001b[0m\u001b[0m\n\u001b[1;32m      4\u001b[0m \u001b[0;34m\u001b[0m\u001b[0m\n\u001b[0;32m----> 5\u001b[0;31m \u001b[0mfunction\u001b[0m\u001b[0;34m(\u001b[0m\u001b[0;34m[\u001b[0m\u001b[0mx\u001b[0m\u001b[0;34m,\u001b[0m\u001b[0my\u001b[0m\u001b[0;34m]\u001b[0m\u001b[0;34m)\u001b[0m\u001b[0;34m\u001b[0m\u001b[0m\n\u001b[0m",
      "\u001b[0;32m<ipython-input-32-e4a049dac410>\u001b[0m in \u001b[0;36mfunction\u001b[0;34m(x)\u001b[0m\n\u001b[1;32m      1\u001b[0m \u001b[0;32mdef\u001b[0m \u001b[0mfunction\u001b[0m\u001b[0;34m(\u001b[0m\u001b[0mx\u001b[0m\u001b[0;34m)\u001b[0m\u001b[0;34m:\u001b[0m\u001b[0;34m\u001b[0m\u001b[0m\n\u001b[0;32m----> 2\u001b[0;31m     \u001b[0;32mreturn\u001b[0m \u001b[0mnp\u001b[0m\u001b[0;34m.\u001b[0m\u001b[0msum\u001b[0m\u001b[0;34m(\u001b[0m\u001b[0mx\u001b[0m\u001b[0;34m**\u001b[0m\u001b[0;36m2\u001b[0m\u001b[0;34m)\u001b[0m\u001b[0;34m\u001b[0m\u001b[0m\n\u001b[0m\u001b[1;32m      3\u001b[0m \u001b[0;34m\u001b[0m\u001b[0m\n\u001b[1;32m      4\u001b[0m \u001b[0;34m\u001b[0m\u001b[0m\n\u001b[1;32m      5\u001b[0m \u001b[0mfunction\u001b[0m\u001b[0;34m(\u001b[0m\u001b[0;34m[\u001b[0m\u001b[0mx\u001b[0m\u001b[0;34m,\u001b[0m\u001b[0my\u001b[0m\u001b[0;34m]\u001b[0m\u001b[0;34m)\u001b[0m\u001b[0;34m\u001b[0m\u001b[0m\n",
      "\u001b[0;31mTypeError\u001b[0m: unsupported operand type(s) for ** or pow(): 'list' and 'int'"
     ]
    }
   ],
   "source": [
    "\n",
    "def function(x):\n",
    "    return np.sum(x**2)\n",
    "\n",
    "\n",
    "function([x,y])"
   ]
  },
  {
   "cell_type": "code",
   "execution_count": 31,
   "metadata": {},
   "outputs": [
    {
     "data": {
      "text/plain": [
       "[array([[-2.        , -2.        , -2.        , -2.        , -2.        ,\n",
       "         -2.        , -2.        , -2.        , -2.        , -2.        ,\n",
       "         -2.        , -2.        , -2.        , -2.        , -2.        ,\n",
       "         -2.        , -2.        , -2.        , -2.        , -2.        ],\n",
       "        [-1.78947368, -1.78947368, -1.78947368, -1.78947368, -1.78947368,\n",
       "         -1.78947368, -1.78947368, -1.78947368, -1.78947368, -1.78947368,\n",
       "         -1.78947368, -1.78947368, -1.78947368, -1.78947368, -1.78947368,\n",
       "         -1.78947368, -1.78947368, -1.78947368, -1.78947368, -1.78947368],\n",
       "        [-1.57894737, -1.57894737, -1.57894737, -1.57894737, -1.57894737,\n",
       "         -1.57894737, -1.57894737, -1.57894737, -1.57894737, -1.57894737,\n",
       "         -1.57894737, -1.57894737, -1.57894737, -1.57894737, -1.57894737,\n",
       "         -1.57894737, -1.57894737, -1.57894737, -1.57894737, -1.57894737],\n",
       "        [-1.36842105, -1.36842105, -1.36842105, -1.36842105, -1.36842105,\n",
       "         -1.36842105, -1.36842105, -1.36842105, -1.36842105, -1.36842105,\n",
       "         -1.36842105, -1.36842105, -1.36842105, -1.36842105, -1.36842105,\n",
       "         -1.36842105, -1.36842105, -1.36842105, -1.36842105, -1.36842105],\n",
       "        [-1.15789474, -1.15789474, -1.15789474, -1.15789474, -1.15789474,\n",
       "         -1.15789474, -1.15789474, -1.15789474, -1.15789474, -1.15789474,\n",
       "         -1.15789474, -1.15789474, -1.15789474, -1.15789474, -1.15789474,\n",
       "         -1.15789474, -1.15789474, -1.15789474, -1.15789474, -1.15789474],\n",
       "        [-0.94736842, -0.94736842, -0.94736842, -0.94736842, -0.94736842,\n",
       "         -0.94736842, -0.94736842, -0.94736842, -0.94736842, -0.94736842,\n",
       "         -0.94736842, -0.94736842, -0.94736842, -0.94736842, -0.94736842,\n",
       "         -0.94736842, -0.94736842, -0.94736842, -0.94736842, -0.94736842],\n",
       "        [-0.73684211, -0.73684211, -0.73684211, -0.73684211, -0.73684211,\n",
       "         -0.73684211, -0.73684211, -0.73684211, -0.73684211, -0.73684211,\n",
       "         -0.73684211, -0.73684211, -0.73684211, -0.73684211, -0.73684211,\n",
       "         -0.73684211, -0.73684211, -0.73684211, -0.73684211, -0.73684211],\n",
       "        [-0.52631579, -0.52631579, -0.52631579, -0.52631579, -0.52631579,\n",
       "         -0.52631579, -0.52631579, -0.52631579, -0.52631579, -0.52631579,\n",
       "         -0.52631579, -0.52631579, -0.52631579, -0.52631579, -0.52631579,\n",
       "         -0.52631579, -0.52631579, -0.52631579, -0.52631579, -0.52631579],\n",
       "        [-0.31578947, -0.31578947, -0.31578947, -0.31578947, -0.31578947,\n",
       "         -0.31578947, -0.31578947, -0.31578947, -0.31578947, -0.31578947,\n",
       "         -0.31578947, -0.31578947, -0.31578947, -0.31578947, -0.31578947,\n",
       "         -0.31578947, -0.31578947, -0.31578947, -0.31578947, -0.31578947],\n",
       "        [-0.10526316, -0.10526316, -0.10526316, -0.10526316, -0.10526316,\n",
       "         -0.10526316, -0.10526316, -0.10526316, -0.10526316, -0.10526316,\n",
       "         -0.10526316, -0.10526316, -0.10526316, -0.10526316, -0.10526316,\n",
       "         -0.10526316, -0.10526316, -0.10526316, -0.10526316, -0.10526316],\n",
       "        [ 0.10526316,  0.10526316,  0.10526316,  0.10526316,  0.10526316,\n",
       "          0.10526316,  0.10526316,  0.10526316,  0.10526316,  0.10526316,\n",
       "          0.10526316,  0.10526316,  0.10526316,  0.10526316,  0.10526316,\n",
       "          0.10526316,  0.10526316,  0.10526316,  0.10526316,  0.10526316],\n",
       "        [ 0.31578947,  0.31578947,  0.31578947,  0.31578947,  0.31578947,\n",
       "          0.31578947,  0.31578947,  0.31578947,  0.31578947,  0.31578947,\n",
       "          0.31578947,  0.31578947,  0.31578947,  0.31578947,  0.31578947,\n",
       "          0.31578947,  0.31578947,  0.31578947,  0.31578947,  0.31578947],\n",
       "        [ 0.52631579,  0.52631579,  0.52631579,  0.52631579,  0.52631579,\n",
       "          0.52631579,  0.52631579,  0.52631579,  0.52631579,  0.52631579,\n",
       "          0.52631579,  0.52631579,  0.52631579,  0.52631579,  0.52631579,\n",
       "          0.52631579,  0.52631579,  0.52631579,  0.52631579,  0.52631579],\n",
       "        [ 0.73684211,  0.73684211,  0.73684211,  0.73684211,  0.73684211,\n",
       "          0.73684211,  0.73684211,  0.73684211,  0.73684211,  0.73684211,\n",
       "          0.73684211,  0.73684211,  0.73684211,  0.73684211,  0.73684211,\n",
       "          0.73684211,  0.73684211,  0.73684211,  0.73684211,  0.73684211],\n",
       "        [ 0.94736842,  0.94736842,  0.94736842,  0.94736842,  0.94736842,\n",
       "          0.94736842,  0.94736842,  0.94736842,  0.94736842,  0.94736842,\n",
       "          0.94736842,  0.94736842,  0.94736842,  0.94736842,  0.94736842,\n",
       "          0.94736842,  0.94736842,  0.94736842,  0.94736842,  0.94736842],\n",
       "        [ 1.15789474,  1.15789474,  1.15789474,  1.15789474,  1.15789474,\n",
       "          1.15789474,  1.15789474,  1.15789474,  1.15789474,  1.15789474,\n",
       "          1.15789474,  1.15789474,  1.15789474,  1.15789474,  1.15789474,\n",
       "          1.15789474,  1.15789474,  1.15789474,  1.15789474,  1.15789474],\n",
       "        [ 1.36842105,  1.36842105,  1.36842105,  1.36842105,  1.36842105,\n",
       "          1.36842105,  1.36842105,  1.36842105,  1.36842105,  1.36842105,\n",
       "          1.36842105,  1.36842105,  1.36842105,  1.36842105,  1.36842105,\n",
       "          1.36842105,  1.36842105,  1.36842105,  1.36842105,  1.36842105],\n",
       "        [ 1.57894737,  1.57894737,  1.57894737,  1.57894737,  1.57894737,\n",
       "          1.57894737,  1.57894737,  1.57894737,  1.57894737,  1.57894737,\n",
       "          1.57894737,  1.57894737,  1.57894737,  1.57894737,  1.57894737,\n",
       "          1.57894737,  1.57894737,  1.57894737,  1.57894737,  1.57894737],\n",
       "        [ 1.78947368,  1.78947368,  1.78947368,  1.78947368,  1.78947368,\n",
       "          1.78947368,  1.78947368,  1.78947368,  1.78947368,  1.78947368,\n",
       "          1.78947368,  1.78947368,  1.78947368,  1.78947368,  1.78947368,\n",
       "          1.78947368,  1.78947368,  1.78947368,  1.78947368,  1.78947368],\n",
       "        [ 2.        ,  2.        ,  2.        ,  2.        ,  2.        ,\n",
       "          2.        ,  2.        ,  2.        ,  2.        ,  2.        ,\n",
       "          2.        ,  2.        ,  2.        ,  2.        ,  2.        ,\n",
       "          2.        ,  2.        ,  2.        ,  2.        ,  2.        ]]),\n",
       " array([[-2.        , -1.78947368, -1.57894737, -1.36842105, -1.15789474,\n",
       "         -0.94736842, -0.73684211, -0.52631579, -0.31578947, -0.10526316,\n",
       "          0.10526316,  0.31578947,  0.52631579,  0.73684211,  0.94736842,\n",
       "          1.15789474,  1.36842105,  1.57894737,  1.78947368,  2.        ],\n",
       "        [-2.        , -1.78947368, -1.57894737, -1.36842105, -1.15789474,\n",
       "         -0.94736842, -0.73684211, -0.52631579, -0.31578947, -0.10526316,\n",
       "          0.10526316,  0.31578947,  0.52631579,  0.73684211,  0.94736842,\n",
       "          1.15789474,  1.36842105,  1.57894737,  1.78947368,  2.        ],\n",
       "        [-2.        , -1.78947368, -1.57894737, -1.36842105, -1.15789474,\n",
       "         -0.94736842, -0.73684211, -0.52631579, -0.31578947, -0.10526316,\n",
       "          0.10526316,  0.31578947,  0.52631579,  0.73684211,  0.94736842,\n",
       "          1.15789474,  1.36842105,  1.57894737,  1.78947368,  2.        ],\n",
       "        [-2.        , -1.78947368, -1.57894737, -1.36842105, -1.15789474,\n",
       "         -0.94736842, -0.73684211, -0.52631579, -0.31578947, -0.10526316,\n",
       "          0.10526316,  0.31578947,  0.52631579,  0.73684211,  0.94736842,\n",
       "          1.15789474,  1.36842105,  1.57894737,  1.78947368,  2.        ],\n",
       "        [-2.        , -1.78947368, -1.57894737, -1.36842105, -1.15789474,\n",
       "         -0.94736842, -0.73684211, -0.52631579, -0.31578947, -0.10526316,\n",
       "          0.10526316,  0.31578947,  0.52631579,  0.73684211,  0.94736842,\n",
       "          1.15789474,  1.36842105,  1.57894737,  1.78947368,  2.        ],\n",
       "        [-2.        , -1.78947368, -1.57894737, -1.36842105, -1.15789474,\n",
       "         -0.94736842, -0.73684211, -0.52631579, -0.31578947, -0.10526316,\n",
       "          0.10526316,  0.31578947,  0.52631579,  0.73684211,  0.94736842,\n",
       "          1.15789474,  1.36842105,  1.57894737,  1.78947368,  2.        ],\n",
       "        [-2.        , -1.78947368, -1.57894737, -1.36842105, -1.15789474,\n",
       "         -0.94736842, -0.73684211, -0.52631579, -0.31578947, -0.10526316,\n",
       "          0.10526316,  0.31578947,  0.52631579,  0.73684211,  0.94736842,\n",
       "          1.15789474,  1.36842105,  1.57894737,  1.78947368,  2.        ],\n",
       "        [-2.        , -1.78947368, -1.57894737, -1.36842105, -1.15789474,\n",
       "         -0.94736842, -0.73684211, -0.52631579, -0.31578947, -0.10526316,\n",
       "          0.10526316,  0.31578947,  0.52631579,  0.73684211,  0.94736842,\n",
       "          1.15789474,  1.36842105,  1.57894737,  1.78947368,  2.        ],\n",
       "        [-2.        , -1.78947368, -1.57894737, -1.36842105, -1.15789474,\n",
       "         -0.94736842, -0.73684211, -0.52631579, -0.31578947, -0.10526316,\n",
       "          0.10526316,  0.31578947,  0.52631579,  0.73684211,  0.94736842,\n",
       "          1.15789474,  1.36842105,  1.57894737,  1.78947368,  2.        ],\n",
       "        [-2.        , -1.78947368, -1.57894737, -1.36842105, -1.15789474,\n",
       "         -0.94736842, -0.73684211, -0.52631579, -0.31578947, -0.10526316,\n",
       "          0.10526316,  0.31578947,  0.52631579,  0.73684211,  0.94736842,\n",
       "          1.15789474,  1.36842105,  1.57894737,  1.78947368,  2.        ],\n",
       "        [-2.        , -1.78947368, -1.57894737, -1.36842105, -1.15789474,\n",
       "         -0.94736842, -0.73684211, -0.52631579, -0.31578947, -0.10526316,\n",
       "          0.10526316,  0.31578947,  0.52631579,  0.73684211,  0.94736842,\n",
       "          1.15789474,  1.36842105,  1.57894737,  1.78947368,  2.        ],\n",
       "        [-2.        , -1.78947368, -1.57894737, -1.36842105, -1.15789474,\n",
       "         -0.94736842, -0.73684211, -0.52631579, -0.31578947, -0.10526316,\n",
       "          0.10526316,  0.31578947,  0.52631579,  0.73684211,  0.94736842,\n",
       "          1.15789474,  1.36842105,  1.57894737,  1.78947368,  2.        ],\n",
       "        [-2.        , -1.78947368, -1.57894737, -1.36842105, -1.15789474,\n",
       "         -0.94736842, -0.73684211, -0.52631579, -0.31578947, -0.10526316,\n",
       "          0.10526316,  0.31578947,  0.52631579,  0.73684211,  0.94736842,\n",
       "          1.15789474,  1.36842105,  1.57894737,  1.78947368,  2.        ],\n",
       "        [-2.        , -1.78947368, -1.57894737, -1.36842105, -1.15789474,\n",
       "         -0.94736842, -0.73684211, -0.52631579, -0.31578947, -0.10526316,\n",
       "          0.10526316,  0.31578947,  0.52631579,  0.73684211,  0.94736842,\n",
       "          1.15789474,  1.36842105,  1.57894737,  1.78947368,  2.        ],\n",
       "        [-2.        , -1.78947368, -1.57894737, -1.36842105, -1.15789474,\n",
       "         -0.94736842, -0.73684211, -0.52631579, -0.31578947, -0.10526316,\n",
       "          0.10526316,  0.31578947,  0.52631579,  0.73684211,  0.94736842,\n",
       "          1.15789474,  1.36842105,  1.57894737,  1.78947368,  2.        ],\n",
       "        [-2.        , -1.78947368, -1.57894737, -1.36842105, -1.15789474,\n",
       "         -0.94736842, -0.73684211, -0.52631579, -0.31578947, -0.10526316,\n",
       "          0.10526316,  0.31578947,  0.52631579,  0.73684211,  0.94736842,\n",
       "          1.15789474,  1.36842105,  1.57894737,  1.78947368,  2.        ],\n",
       "        [-2.        , -1.78947368, -1.57894737, -1.36842105, -1.15789474,\n",
       "         -0.94736842, -0.73684211, -0.52631579, -0.31578947, -0.10526316,\n",
       "          0.10526316,  0.31578947,  0.52631579,  0.73684211,  0.94736842,\n",
       "          1.15789474,  1.36842105,  1.57894737,  1.78947368,  2.        ],\n",
       "        [-2.        , -1.78947368, -1.57894737, -1.36842105, -1.15789474,\n",
       "         -0.94736842, -0.73684211, -0.52631579, -0.31578947, -0.10526316,\n",
       "          0.10526316,  0.31578947,  0.52631579,  0.73684211,  0.94736842,\n",
       "          1.15789474,  1.36842105,  1.57894737,  1.78947368,  2.        ],\n",
       "        [-2.        , -1.78947368, -1.57894737, -1.36842105, -1.15789474,\n",
       "         -0.94736842, -0.73684211, -0.52631579, -0.31578947, -0.10526316,\n",
       "          0.10526316,  0.31578947,  0.52631579,  0.73684211,  0.94736842,\n",
       "          1.15789474,  1.36842105,  1.57894737,  1.78947368,  2.        ],\n",
       "        [-2.        , -1.78947368, -1.57894737, -1.36842105, -1.15789474,\n",
       "         -0.94736842, -0.73684211, -0.52631579, -0.31578947, -0.10526316,\n",
       "          0.10526316,  0.31578947,  0.52631579,  0.73684211,  0.94736842,\n",
       "          1.15789474,  1.36842105,  1.57894737,  1.78947368,  2.        ]])]"
      ]
     },
     "execution_count": 31,
     "metadata": {},
     "output_type": "execute_result"
    }
   ],
   "source": [
    "[x,y]"
   ]
  },
  {
   "cell_type": "code",
   "execution_count": null,
   "metadata": {},
   "outputs": [],
   "source": []
  }
 ],
 "metadata": {
  "kernelspec": {
   "display_name": "Python 3",
   "language": "python",
   "name": "python3"
  },
  "language_info": {
   "codemirror_mode": {
    "name": "ipython",
    "version": 3
   },
   "file_extension": ".py",
   "mimetype": "text/x-python",
   "name": "python",
   "nbconvert_exporter": "python",
   "pygments_lexer": "ipython3",
   "version": "3.6.4"
  },
  "toc": {
   "base_numbering": 1,
   "nav_menu": {},
   "number_sections": true,
   "sideBar": true,
   "skip_h1_title": false,
   "title_cell": "Table of Contents",
   "title_sidebar": "Contents",
   "toc_cell": false,
   "toc_position": {},
   "toc_section_display": true,
   "toc_window_display": true
  }
 },
 "nbformat": 4,
 "nbformat_minor": 2
}
